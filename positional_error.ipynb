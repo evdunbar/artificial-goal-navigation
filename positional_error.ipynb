{
 "cells": [
  {
   "cell_type": "code",
   "execution_count": 1,
   "metadata": {},
   "outputs": [],
   "source": [
    "import numpy as np\n",
    "import matplotlib.pyplot as plt"
   ]
  },
  {
   "cell_type": "code",
   "execution_count": 7,
   "metadata": {},
   "outputs": [],
   "source": [
    "with open(\"positional_error.npy\", \"rb\") as f:\n",
    "    pos_error = np.load(f)\n",
    "\n",
    "noise_vals = [0.0, 0.01, 0.02, 0.05]"
   ]
  },
  {
   "cell_type": "code",
   "execution_count": 8,
   "metadata": {},
   "outputs": [
    {
     "name": "stdout",
     "output_type": "stream",
     "text": [
      "noise level: 0.0\n",
      "min: 0.40676791537196744\t\tmax: 147.68658014882206\n",
      "mean positional error: 35.52514234355657\n",
      "variance of positional error: 550.9697894930202\n",
      "\n",
      "noise level: 0.01\n",
      "min: 0.874555902515547\t\tmax: 120.98044044659157\n",
      "mean positional error: 36.531118933608624\n",
      "variance of positional error: 592.3784552714491\n",
      "\n",
      "noise level: 0.02\n",
      "min: 0.8681837298349063\t\tmax: 129.57398495465586\n",
      "mean positional error: 38.26932101504082\n",
      "variance of positional error: 548.4070881292669\n",
      "\n",
      "noise level: 0.05\n",
      "min: 0.9922279612464356\t\tmax: 124.3591366350162\n",
      "mean positional error: 30.225470346938426\n",
      "variance of positional error: 311.3800226832778\n",
      "\n"
     ]
    }
   ],
   "source": [
    "for i, data in enumerate(pos_error):\n",
    "    print(f\"noise level: {noise_vals[i]}\")\n",
    "    print(f\"min: {np.min(data)}\\t\\tmax: {np.max(data)}\")\n",
    "    print(f\"mean positional error: {np.mean(data)}\")\n",
    "    print(f\"variance of positional error: {np.var(data)}\")\n",
    "    print()"
   ]
  }
 ],
 "metadata": {
  "kernelspec": {
   "display_name": "elec",
   "language": "python",
   "name": "elec"
  },
  "language_info": {
   "codemirror_mode": {
    "name": "ipython",
    "version": 3
   },
   "file_extension": ".py",
   "mimetype": "text/x-python",
   "name": "python",
   "nbconvert_exporter": "python",
   "pygments_lexer": "ipython3",
   "version": "3.11.1"
  },
  "orig_nbformat": 4
 },
 "nbformat": 4,
 "nbformat_minor": 2
}

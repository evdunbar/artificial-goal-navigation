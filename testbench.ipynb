{
 "cells": [
  {
   "cell_type": "code",
   "execution_count": 1,
   "metadata": {
    "executionInfo": {
     "elapsed": 8924,
     "status": "ok",
     "timestamp": 1681777229210,
     "user": {
      "displayName": "Zhongqi Gao",
      "userId": "11577090512157430756"
     },
     "user_tz": 300
    },
    "id": "winZisG2Fx9f"
   },
   "outputs": [],
   "source": [
    "import matplotlib.pyplot as plt\n",
    "import numpy as np\n",
    "\n",
    "import torch\n",
    "from torch import nn"
   ]
  },
  {
   "cell_type": "code",
   "execution_count": 2,
   "metadata": {
    "colab": {
     "base_uri": "https://localhost:8080/"
    },
    "executionInfo": {
     "elapsed": 31,
     "status": "ok",
     "timestamp": 1681777229211,
     "user": {
      "displayName": "Zhongqi Gao",
      "userId": "11577090512157430756"
     },
     "user_tz": 300
    },
    "id": "O8eKNX76QIPZ",
    "outputId": "26780ab5-7865-4b32-cd56-a251214b1181"
   },
   "outputs": [
    {
     "name": "stdout",
     "output_type": "stream",
     "text": [
      "cpu\n"
     ]
    }
   ],
   "source": [
    "DEV = torch.device(\"cuda\" if torch.cuda.is_available() else \"cpu\")\n",
    "print(DEV)"
   ]
  },
  {
   "cell_type": "code",
   "execution_count": 130,
   "metadata": {},
   "outputs": [],
   "source": [
    "def plot_navigation(position_arr, feeder_position, state_change_time):\n",
    "    position_arr = position_arr.cpu()\n",
    "    feeder_position = feeder_position.cpu()\n",
    "    plt.figure(figsize=(6,6), dpi=150)\n",
    "    plt.plot(position_arr[:state_change_time,0], position_sequence[:state_change_time,1])\n",
    "    plt.plot(position_arr[state_change_time:,0], position_sequence[state_change_time:,1])\n",
    "    plt.scatter(np.array([0]), np.array([0]), c=\"#000000\")\n",
    "    plt.scatter(feeder_position[0], feeder_position[1], c=\"#00FF00\")\n",
    "    plt.show()"
   ]
  },
  {
   "cell_type": "code",
   "execution_count": 254,
   "metadata": {
    "colab": {
     "base_uri": "https://localhost:8080/",
     "height": 130
    },
    "executionInfo": {
     "elapsed": 25,
     "status": "error",
     "timestamp": 1681777229212,
     "user": {
      "displayName": "Zhongqi Gao",
      "userId": "11577090512157430756"
     },
     "user_tz": 300
    },
    "id": "WxSYJna5V2T1",
    "outputId": "8ebcab9f-0adc-4c57-9460-e62e5f06291b"
   },
   "outputs": [],
   "source": [
    "class AdaptiveVectorNavigation():\n",
    "    def __init__(self, \n",
    "                 forage_time: int, \n",
    "                 num_neurons: int,\n",
    "                 leak_rate  : float) -> None:\n",
    "        # self.feeder_position = 5 * torch.randn((2,), device=DEV) # TODO: follow eqs 25, 26, 27\n",
    "        self.feeder_position = torch.Tensor([0, 3], device=DEV)\n",
    "        self.time = 0\n",
    "        self.forage_time = forage_time\n",
    "        self.reward_threshold = 0.5\n",
    "\n",
    "        # self.phi               = torch.zeros((1,), device=DEV)\n",
    "        # print(f\"phi: {self.phi}\")\n",
    "        self.phi               = 0\n",
    "        self.speed             = 5\n",
    "        self.state             = 5 # outward trip initially\n",
    "        self.position          = torch.zeros((2,), device=DEV) # (x,y)\n",
    "        self.rewards           = 0\n",
    "    \n",
    "        self.neuron_phi            = (2 * torch.pi / num_neurons) * torch.arange(num_neurons, device=DEV)\n",
    "        self.cosine_kernel         = torch.empty((num_neurons, num_neurons), device=DEV)\n",
    "        for i in range(num_neurons):\n",
    "            for j in range(num_neurons):\n",
    "                self.cosine_kernel[i,j] = torch.cos(self.neuron_phi[i] - self.neuron_phi[j])\n",
    "        self.decoding_layer           = torch.zeros((num_neurons,), device=DEV)\n",
    "        self.memory_layer             = torch.zeros((num_neurons,), device=DEV)\n",
    "        self.leak_rate                = leak_rate\n",
    "        self.home_vector              = torch.zeros((num_neurons,), device=DEV)\n",
    "        self.global_weights           = torch.randn((num_neurons,), device=DEV)\n",
    "        self.inverse_temp_exploration = 0.01 # guess at a good initial value\n",
    "        self.lpf_food_reward          = torch.zeros((1,), device=DEV)\n",
    "        \n",
    "        self.relu = nn.ReLU()\n",
    "\n",
    "    def update_home_vector(self) -> None:\n",
    "        head_layer = torch.cos(self.phi - self.neuron_phi)\n",
    "        gating_layer = self.relu(head_layer - 1 + self.speed)\n",
    "        self.memory_layer = self.relu(gating_layer + ((1 - self.leak_rate) * self.memory_layer))\n",
    "        self.decoding_layer = self.relu(torch.matmul(self.cosine_kernel, self.memory_layer)) # actually the head vector\n",
    "        # print(f\"head vector: {self.decoding_layer}\")\n",
    "        self.head_vector_angle = torch.atan((torch.dot(self.decoding_layer, torch.sin(self.neuron_phi)) / torch.dot(self.decoding_layer, torch.cos(self.neuron_phi))))\n",
    "        # print(f\"hv angle: {self.head_vector_angle}\")\n",
    "        head_vector_length = torch.sum(self.decoding_layer) # could be incorrect implementation, hard to understand article\n",
    "        self.motor_hv = head_vector_length * torch.sin(self.head_vector_angle - self.phi - torch.pi)\n",
    "\n",
    "    def update_global_vector(self) -> None:\n",
    "        if (self.time >= self.forage_time) or (self.rewards >= self.reward_threshold): # inward/outward trip\n",
    "            self.state = 0\n",
    "            self.state_change_time = self.time\n",
    "        self.rewards = self.relu(1 - 5 * torch.norm(self.feeder_position - self.position))\n",
    "        # print(f\"rewards: {self.rewards}\")\n",
    "        if self.rewards > 0:\n",
    "            # print(f\"rewards: {self.rewards}\")\n",
    "            pass\n",
    "\n",
    "        global_vector = self.state * self.global_weights\n",
    "        delta_global_weights = 2 * self.rewards * self.state * (self.decoding_layer - global_vector) # equation 14 and 15. \n",
    "        self.global_weights += delta_global_weights\n",
    "        # print(\"gv\", global_vector)\n",
    "        # print(\"gw\", self.global_weights)\n",
    "        # print(\"dgw\", delta_global_weights)\n",
    "        \n",
    "        global_vector_angle = torch.atan(torch.dot(global_vector, torch.sin(self.neuron_phi)) / torch.dot(global_vector , torch.cos(self.neuron_phi)))\n",
    "        global_vector_length = torch.sum(global_vector) # todo: unsure\n",
    "        # print(f\"global vec angle/length: {global_vector_angle, global_vector_length}\")\n",
    "        self.motor_gv = global_vector_length * torch.sin(global_vector_angle - self.phi) #todo: global vector angle?\n",
    "\n",
    "    def update_navigation(self) -> None:\n",
    "        self.update_home_vector()\n",
    "        self.update_global_vector()\n",
    "\n",
    "        # update exploration and navigation\n",
    "        exploration_rate = self.state * torch.exp(-self.inverse_temp_exploration * self.lpf_food_reward) #todo: equation 19\n",
    "        random_search = torch.normal(0.0, exploration_rate)\n",
    "        self.lpf_food_reward = self.rewards + 0.995 * self.lpf_food_reward\n",
    "        # print(f\"lpf food reward: {self.lpf_food_reward}\")\n",
    "        self.inverse_temp_exploration += 1e-6 * ((1 / self.inverse_temp_exploration) + (100 * self.lpf_food_reward * exploration_rate))\n",
    "        # print(f\"inverse temp of exploration {self.inverse_temp_exploration}\")\n",
    "        motor_command = (1 - exploration_rate) * ((self.state * self.motor_gv) + self.motor_hv) + random_search\n",
    "        # print(f\"motor gv/hv: {self.motor_gv, self.motor_hv}\")\n",
    "\n",
    "        # update position due to control input\n",
    "        self.previous_position = self.position.clone()\n",
    "        self.phi += 0.1 * torch.pi * motor_command # 0.1 = Delta t\n",
    "        self.position[0] += torch.squeeze(0.1 * self.speed * torch.cos(self.phi))\n",
    "        self.position[1] += torch.squeeze(0.1 * self.speed * torch.sin(self.phi))\n",
    "        self.speed = torch.norm(self.position - self.previous_position)\n",
    "\n",
    "        self.time =+ 1"
   ]
  },
  {
   "cell_type": "code",
   "execution_count": 255,
   "metadata": {},
   "outputs": [],
   "source": [
    "graph_test_navigation = AdaptiveVectorNavigation(1000, 18, 0.1)"
   ]
  },
  {
   "cell_type": "code",
   "execution_count": 256,
   "metadata": {
    "scrolled": true
   },
   "outputs": [
    {
     "name": "stdout",
     "output_type": "stream",
     "text": [
      "-------------------------\n",
      "done with time step 1\n",
      "-------------------------\n",
      "done with time step 101\n",
      "-------------------------\n",
      "done with time step 201\n",
      "-------------------------\n",
      "done with time step 301\n",
      "-------------------------\n",
      "done with time step 401\n",
      "-------------------------\n",
      "done with time step 501\n",
      "-------------------------\n",
      "done with time step 601\n",
      "-------------------------\n",
      "done with time step 701\n",
      "-------------------------\n",
      "done with time step 801\n",
      "-------------------------\n",
      "done with time step 901\n"
     ]
    },
    {
     "ename": "RuntimeError",
     "evalue": "normal expects all elements of std >= 0.0",
     "output_type": "error",
     "traceback": [
      "\u001b[0;31m---------------------------------------------------------------------------\u001b[0m",
      "\u001b[0;31mRuntimeError\u001b[0m                              Traceback (most recent call last)",
      "Cell \u001b[0;32mIn[256], line 4\u001b[0m\n\u001b[1;32m      2\u001b[0m position_sequence[\u001b[39m0\u001b[39m] \u001b[39m=\u001b[39m graph_test_navigation\u001b[39m.\u001b[39mposition\n\u001b[1;32m      3\u001b[0m \u001b[39mfor\u001b[39;00m i \u001b[39min\u001b[39;00m \u001b[39mrange\u001b[39m(\u001b[39m1199\u001b[39m):\n\u001b[0;32m----> 4\u001b[0m     graph_test_navigation\u001b[39m.\u001b[39;49mupdate_navigation()\n\u001b[1;32m      5\u001b[0m     position_sequence[i\u001b[39m+\u001b[39m\u001b[39m1\u001b[39m] \u001b[39m=\u001b[39m graph_test_navigation\u001b[39m.\u001b[39mposition\n\u001b[1;32m      6\u001b[0m     \u001b[39mif\u001b[39;00m i \u001b[39m%\u001b[39m \u001b[39m100\u001b[39m \u001b[39m==\u001b[39m \u001b[39m0\u001b[39m:\n",
      "Cell \u001b[0;32mIn[254], line 74\u001b[0m, in \u001b[0;36mAdaptiveVectorNavigation.update_navigation\u001b[0;34m(self)\u001b[0m\n\u001b[1;32m     72\u001b[0m \u001b[39m# update exploration and navigation\u001b[39;00m\n\u001b[1;32m     73\u001b[0m exploration_rate \u001b[39m=\u001b[39m \u001b[39mself\u001b[39m\u001b[39m.\u001b[39mstate \u001b[39m*\u001b[39m torch\u001b[39m.\u001b[39mexp(\u001b[39m-\u001b[39m\u001b[39mself\u001b[39m\u001b[39m.\u001b[39minverse_temp_exploration \u001b[39m*\u001b[39m \u001b[39mself\u001b[39m\u001b[39m.\u001b[39mlpf_food_reward) \u001b[39m#todo: equation 19\u001b[39;00m\n\u001b[0;32m---> 74\u001b[0m random_search \u001b[39m=\u001b[39m torch\u001b[39m.\u001b[39;49mnormal(\u001b[39m0.0\u001b[39;49m, exploration_rate)\n\u001b[1;32m     75\u001b[0m \u001b[39mself\u001b[39m\u001b[39m.\u001b[39mlpf_food_reward \u001b[39m=\u001b[39m \u001b[39mself\u001b[39m\u001b[39m.\u001b[39mrewards \u001b[39m+\u001b[39m \u001b[39m0.995\u001b[39m \u001b[39m*\u001b[39m \u001b[39mself\u001b[39m\u001b[39m.\u001b[39mlpf_food_reward\n\u001b[1;32m     76\u001b[0m \u001b[39m# print(f\"lpf food reward: {self.lpf_food_reward}\")\u001b[39;00m\n",
      "\u001b[0;31mRuntimeError\u001b[0m: normal expects all elements of std >= 0.0"
     ]
    }
   ],
   "source": [
    "position_sequence = torch.empty((1200, 2), device=DEV)\n",
    "position_sequence[0] = graph_test_navigation.position\n",
    "for i in range(1199):\n",
    "    graph_test_navigation.update_navigation()\n",
    "    position_sequence[i+1] = graph_test_navigation.position\n",
    "    if i % 100 == 0:\n",
    "        print(f\"-------------------------\\ndone with time step {i+1}\")"
   ]
  },
  {
   "cell_type": "code",
   "execution_count": null,
   "metadata": {},
   "outputs": [
    {
     "data": {
      "image/png": "[encoded data removed]",
      "text/plain": [
       "<Figure size 900x900 with 1 Axes>"
      ]
     },
     "metadata": {},
     "output_type": "display_data"
    }
   ],
   "source": [
    "plot_navigation(position_sequence, graph_test_navigation.feeder_position, 1000)"
   ]
  }
 ],
 "metadata": {
  "colab": {
   "provenance": []
  },
  "kernelspec": {
   "display_name": "pytorch",
   "language": "python",
   "name": "pytorch"
  },
  "language_info": {
   "codemirror_mode": {
    "name": "ipython",
    "version": 3
   },
   "file_extension": ".py",
   "mimetype": "text/x-python",
   "name": "python",
   "nbconvert_exporter": "python",
   "pygments_lexer": "ipython3",
   "version": "3.10.10"
  }
 },
 "nbformat": 4,
 "nbformat_minor": 1
}

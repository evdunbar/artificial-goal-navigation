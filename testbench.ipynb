{
 "cells": [
  {
   "cell_type": "code",
   "execution_count": 1,
   "metadata": {
    "executionInfo": {
     "elapsed": 8924,
     "status": "ok",
     "timestamp": 1681777229210,
     "user": {
      "displayName": "Zhongqi Gao",
      "userId": "11577090512157430756"
     },
     "user_tz": 300
    },
    "id": "winZisG2Fx9f"
   },
   "outputs": [],
   "source": [
    "import matplotlib.pyplot as plt\n",
    "\n",
    "import torch\n",
    "from torch import nn"
   ]
  },
  {
   "cell_type": "code",
   "execution_count": 2,
   "metadata": {
    "colab": {
     "base_uri": "https://localhost:8080/"
    },
    "executionInfo": {
     "elapsed": 31,
     "status": "ok",
     "timestamp": 1681777229211,
     "user": {
      "displayName": "Zhongqi Gao",
      "userId": "11577090512157430756"
     },
     "user_tz": 300
    },
    "id": "O8eKNX76QIPZ",
    "outputId": "26780ab5-7865-4b32-cd56-a251214b1181"
   },
   "outputs": [
    {
     "name": "stdout",
     "output_type": "stream",
     "text": [
      "cpu\n"
     ]
    }
   ],
   "source": [
    "DEV = torch.device(\"cuda\" if torch.cuda.is_available() else \"cpu\")\n",
    "print(DEV)"
   ]
  },
  {
   "cell_type": "code",
   "execution_count": 3,
   "metadata": {
    "colab": {
     "base_uri": "https://localhost:8080/",
     "height": 130
    },
    "executionInfo": {
     "elapsed": 25,
     "status": "error",
     "timestamp": 1681777229212,
     "user": {
      "displayName": "Zhongqi Gao",
      "userId": "11577090512157430756"
     },
     "user_tz": 300
    },
    "id": "WxSYJna5V2T1",
    "outputId": "8ebcab9f-0adc-4c57-9460-e62e5f06291b"
   },
   "outputs": [],
   "source": [
    "class AdaptiveVectorNavigation():\n",
    "    def __init__(self, \n",
    "                 forage_time: int, \n",
    "                 num_neurons: int,\n",
    "                 leak_rate  : float) -> None:\n",
    "        self.feeder_position = torch.randn((2,), device=DEV) # TODO: follow eqs 25, 26, 27\n",
    "        self.time = 0\n",
    "        self.forage_time = forage_time\n",
    "        self.reward_threshold = 10 # TODO: make real value\n",
    "\n",
    "        self.phi      = 0\n",
    "        self.speed    = 0\n",
    "        self.state    = True # outward trip initially\n",
    "        self.position = torch.zeros((2,), device=DEV) # (x,y)\n",
    "        self.rewards  = 0\n",
    "    \n",
    "        self.neuron_phi            = (2 * torch.pi / num_neurons) * torch.arange(num_neurons, device=DEV)\n",
    "        self.cosine_kernel         = torch.empty((num_neurons, num_neurons), device=DEV)\n",
    "        for i in range(num_neurons):\n",
    "            for j in range(num_neurons):\n",
    "                self.cosine_kernel[i,j] = torch.cos(self.neuron_phi[i] - self.neuron_phi[j])\n",
    "        self.decoding_layer        = torch.zeros((num_neurons,), device=DEV)\n",
    "        self.previous_memory_layer = torch.zeros((num_neurons,), device=DEV)\n",
    "        self.leak_rate             = leak_rate\n",
    "        self.home_vector           = torch.zeros((num_neurons,), device=DEV)\n",
    "        self.global_vector         = torch.zeros((num_neurons,), device=DEV)\n",
    "        self.learning_rate         = 2 # miu = 2 by default. can change. \n",
    "        self.motor_gv              = 0 # right turn for m<0\n",
    "\n",
    "    def update_home_vector(self) -> None:\n",
    "        head_layer = torch.cos(self.phi - self.neuron_phi)\n",
    "        gating_layer = nn.ReLU(head_layer - 1 + self.speed)\n",
    "        memory_layer = nn.ReLU(gating_layer + ((1 - self.leak_rate) * self.previous_memory_layer))\n",
    "        self.previous_memory_layer = memory_layer\n",
    "        self.decoding_layer = nn.ReLU(torch.matmul(self.cosine_kernel, memory_layer)) # actually the head vector\n",
    "        head_vector_angle = torch.atan(torch.dot(decoding_layer, torch.sin(self.neuron_phi)) / torch.dot(decoding_layer, torch.cos(self.neuron_phi)))\n",
    "        head_vector_length = torch.sum(decoding_layer) # could be incorrect implementation, hard to understand article\n",
    "        homing_signal = head_vector_length * torch.sin(head_vector_angle - self.phi - torch.pi)\n",
    "\n",
    "    def update_global_vector(self) -> None:\n",
    "        global_layer = torch.cos(self.phi - self.neuron_phi)\n",
    "        self.state = (self.time < self.forage_time) and (self.rewards < self.reward_threshold) # inward/outward trip\n",
    "        \n",
    "        self.rewards = nn.ReLU(1 - 5 * torch.norm(self.feeder_position - self.position)) \n",
    "        global_layer = int(self.state) * self.global_vector\n",
    "        delta_global_vector = self.learning_rate * self.rewards * int(self.state) * (self.decoding_layer - global_layer) # equation 14 and 15. \n",
    "        self.global_vector += delta_global_vector \n",
    "        \n",
    "        global_vector_angle = torch.atan(torch.dot(global_layer, torch.sin(self.neuron_phi)) / torch.dot(global_layer, torch.cos(self.neuron_phi)))\n",
    "        global_vector_length = torch.sum(self.global_vector) # todo: unsure\n",
    "        self.motor_gv = global_vector_length * torch.sine(global_vector_angle- self.phi) #todo: global vector angle?\n",
    "        \n",
    "\n",
    "    def update_navigation(self) -> None:\n",
    "        # update sensory input\n",
    "        # self.phi, self.speed, self.state, and self.rewards\n",
    "        self.phi = torch.atan(self.position[1] / self.position[0])\n",
    "        self.speed = 1 # TODO: make based on change in position over time\n",
    "        \n",
    "        exploration_rate = int(self.state) * torch.exp()*reward_estimate* #todo: equation 19\n",
    "        random_search = torch.normal(0, exploration_rate)"
   ]
  },
  {
   "cell_type": "code",
   "execution_count": null,
   "metadata": {},
   "outputs": [],
   "source": []
  }
 ],
 "metadata": {
  "colab": {
   "provenance": []
  },
  "kernelspec": {
   "display_name": "Python 3 (ipykernel)",
   "language": "python",
   "name": "python3"
  },
  "language_info": {
   "codemirror_mode": {
    "name": "ipython",
    "version": 3
   },
   "file_extension": ".py",
   "mimetype": "text/x-python",
   "name": "python",
   "nbconvert_exporter": "python",
   "pygments_lexer": "ipython3",
   "version": "3.10.9"
  }
 },
 "nbformat": 4,
 "nbformat_minor": 1
}
